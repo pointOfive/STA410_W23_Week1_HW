{
 "cells": [
  {
   "cell_type": "markdown",
   "id": "e6ce86ac",
   "metadata": {},
   "source": [
    "# STA410 Programming Portfolio Assignment 0 (10 points)\n",
    "\n",
    "Welcome.\n",
    "\n",
    "## Rules\n",
    "\n",
    "\n",
    "0. **This is a paired or individual assignment.** Specific code solutions submitted for these assignments must be created either individually or in the context of a paired effort: ***group efforts of three or more are students are not allowed.*** Please seek homework partners in-person or on the course discussion board on piazza. **Paired students each separately submit their (common) work, including (agreeing) contribution of work statements for each problem.**\n",
    "  \n",
    "   > Students choosing to work individually must work in accordance with the [University Student Academic Integrity values](https://www.artsci.utoronto.ca/current/academic-advising-and-support/student-academic-integrity)  of \"honesty, trust, fairness, respect, responsibility and courage.\" Students working in pairs may share work without restriction within their pair, but must otherwise work in accordance with the [University Student Academic Integrity values](https://www.artsci.utoronto.ca/current/academic-advising-and-support/student-academic-integrity) noted above. ***Getting and sharing \"hints\" from other classmates is allowed; but, the eventual code creation work and submission must be your own individual or paired creation.***\n",
    "   \n",
    "   \n",
    "1. **Do not delete or replace cells**: this erases `cell ids` upon which automated code tests are based.\n",
    "\n",
    "    - ***If you accidentally delete a required cell*** try \"Edit > Undo Delete Cells\" in the notebook editor; otherwise, redownload the notebook (so it has the correct required `cells ids`) and repopulate it with your answers (assuming you don't overwrite them when you redownload the notebook).\n",
    "\n",
    "   - ***You may add cells for scratch work*** but if required answers are not submitted through the provided cells where the answers are requested your answers may not be marked.\n",
    "\n",
    "  > You may check if `cell ids` are present and working by running the following command in a cell \n",
    "  >\n",
    "  > `! grep '\"id\":' <path/to/notebook>.ipynb`\n",
    "  >\n",
    "  > and making sure the `cell ids` **do not change** when you save your notebook.\n",
    "  >\n",
    "  >> ***If you are working in any environment other than*** [UofT JupyterLab](https://jupyter.utoronto.ca/hub/user-redirect/git-pull?repo=https://github.com/pointOfive/sta410hw0&branch=master&urlpath=/lab/tree/sta410hw0), [UofT JupyterHub](https://jupyter.utoronto.ca/hub/user-redirect/git-pull?repo=https://github.com/pointOfive/sta410hw0&branch=master), or [Google Colab](https://colab.research.google.com/github/pointOfive/sta410hw0/blob/master/sta410hw0.ipynb), your system must meet the following versioning requirements \n",
    "   >>\n",
    "   >>   - [notebook format >=4.5](https://github.com/jupyterlab/jupyterlab/issues/9729) \n",
    "   >>   - jupyter [notebook](https://jupyter.org/install#jupyter-notebook) version [>=6.2](https://jupyter-notebook.readthedocs.io/en/stable/) for \"classic\" notebooks served by [jupyterhub](https://jupyterhub.readthedocs.io/en/stable/quickstart.html)\n",
    "   >>   - [jupyterlab](https://jupyter.org/install) version [>=3.0.13](https://github.com/jupyterlab/jupyterlab/releases/tag/v3.0.13) for \"jupyterlab\" notebooks  \n",
    "   >>    \n",
    "   >> otherwise `cell ids` will not be supported and you will not get any credit for your submitted homework.  \n",
    "      \n",
    "2. **No cells may have any runtime errors** because this causes subsequent automated code tests to fail and you will not get marks for tests which fail because of previous runtime errors. \n",
    "\n",
    "  - Run time errors include, e.g., unassigned variables, mismatched parentheses, and any code which does not work when the notebook cells are sequentially run, even if it was provided for you as part of the starter code. ***It is best to restart and re-run the cells in your notebook to ensure there are no runtime errors before submitting your work.***\n",
    "    \n",
    "  - The `try`-`except` block syntax catches runtime errors and transforms them into `exceptions` which will not cause subsequent automated code tests to fail.  \n",
    "\n",
    "\n",
    "3. **No jupyter shortcut commands** such as `! python script.py 10` or `%%timeit` may be included in the final submission as they will cause subsequent automated code tests to fail.\n",
    "\n",
    "  - ***Comment out ALL jupyter shortcut commands***, e.g., `# ! python script.py 10` or `# %%timeit` in submitted notebooks.\n",
    "\n",
    "\n",
    "4. **Python library imports are limited** to only libraries imported in the starter code and the [standard python modules](https://docs.python.org/3/py-modindex.html). Importing additional libraries will cause subsequent automated code tests to fail.\n",
    "\n",
    "  > Unless a problem instructs differently, you may use any functions available from the libraries imported in the starter code; otherwise, you are expected to create your own Python functionality based on the Python stdlib (standard libary, i.e., base Python and standard Python modules).\n",
    "\n",
    "\n",
    "5. You are welcome and encouraged to adapt code you find available online into your notebook; however, if you do so you must provide a link to the utilized resource. ***If failure to cite such references is identified and confirmed, your mark will be immediately reduced to 0.***  "
   ]
  },
  {
   "cell_type": "code",
   "execution_count": null,
   "id": "041d2c36",
   "metadata": {},
   "outputs": [],
   "source": [
    "# ! grep '\"id\":' <path/to/notebook>.ipynb"
   ]
  },
  {
   "cell_type": "code",
   "execution_count": 1,
   "id": "aac48101",
   "metadata": {
    "deletable": false,
    "editable": false
   },
   "outputs": [],
   "source": [
    "# Unless otherwise instructed, you may use any functions available \n",
    "# from the following library imports\n",
    "import numpy as np\n",
    "import matplotlib.pyplot as plt"
   ]
  },
  {
   "cell_type": "markdown",
   "id": "42753104",
   "metadata": {},
   "source": [
    "# Problem 0 (required)\n",
    "\n",
    "Are you working with a partner to complete this assignment?  \n",
    "- If not, assign  the value of `None` into the variable `Partner`.\n",
    "- If so, assign the name of the person you worked with into the variable `Partner`.\n",
    "    - Format the name as `\"<First Name> <Last Name>\"` as a `str` type, e.g., \"Scott Schwartz\"."
   ]
  },
  {
   "cell_type": "code",
   "execution_count": null,
   "id": "52c51729",
   "metadata": {
    "deletable": false
   },
   "outputs": [],
   "source": [
    "# Required: only worth points when not completed, in which case, you'll lose points\n",
    "Partner = #None\n",
    "# This cell will produce a runtime error until you assign a value to this variable"
   ]
  },
  {
   "cell_type": "markdown",
   "id": "10f92126",
   "metadata": {},
   "source": [
    "What was your contribution in completing the code for this assignments problems? Assign one of the following into each of the `Problem_X` variables below.\n",
    "\n",
    "- `\"I worked alone\"`\n",
    "- `\"I contributed more than my partner\"`\n",
    "- `\"My partner and I contributed equally\"`\n",
    "- `\"I contributed less than my partner\"`\n",
    "- `\"I did not contribute\"`"
   ]
  },
  {
   "cell_type": "code",
   "execution_count": null,
   "id": "fe720578",
   "metadata": {
    "deletable": false
   },
   "outputs": [],
   "source": [
    "# Required: only worth points when not completed, in which case, you'll lose points\n",
    "Problem_1 = #\"I worked alone\"\n",
    "Problem_2 = #\"I worked alone\"\n",
    "# This cell will produce a runtime error until you assign a value to this variable"
   ]
  },
  {
   "cell_type": "markdown",
   "id": "27034598",
   "metadata": {},
   "source": [
    "# Problem 1 (4 points)\n",
    "\n",
    "> This problem is intended is intended as an exercise to help anyone new to Python get started. Hence the copious comments. For those already familar with Python the comments may be reviewed only briefly and deleted if desired. \n",
    "\n",
    "Complete the function `binary_string(intput_integer, storage_bits=16)` which (when possible) returns a binary string representation of the supplied integer where the leftmost bit is the $\\pm$ sign bit and the rightmost bit is $2^0$.  \n",
    "\n",
    "*This problem is inspired by Figure 2.1 of Chapter 2.1 **The Fixed-Point Number System** on page 86 of James E. Gentle's **Computational Statistics** textbook.*"
   ]
  },
  {
   "cell_type": "code",
   "execution_count": 270,
   "id": "ef49479d",
   "metadata": {
    "deletable": false
   },
   "outputs": [],
   "source": [
    "# Python code doesn't run if it's not consistently indented.\n",
    "\n",
    "# This syntax defines the function `binary_string` with a required and optional (default valued) input.\n",
    "# Input values (\"function arguments\") are accessed in the function as variables (\"function parameters\"),\n",
    "def binary_string(integer_input, storage_bits=16):\n",
    "    \n",
    "    \"\"\"    \n",
    "    integer_input     : (int) must be an integer which may be negative\n",
    "    storage_bits(=16) : (int) representational storage capacity in bits\n",
    "\n",
    "    returns (str) signed (`storage_bits`-)bit representation of `integer_input`\n",
    "    \"\"\"\n",
    "    # The docstrings above is a multiline string placed right after the `def` line\n",
    "    # Run `binary_string?` or `help(binary_string)` (without ticks) in a cell to see the docstring\n",
    "\n",
    "    # Python variables are dynamically (automatically) typed\n",
    "    #   e.g., the type of the variable `storage_bits=16` is `int` (but `16.` `16.0` are `float`s)\n",
    "    #   e.g., this returns `True` or `False` `bool` type values (and `type(integer_input)` is `int`)\n",
    "    if type(integer_input) != int:\n",
    "    # this is Python's `if` statement syntax, and notice again how the indenting is applied \n",
    "        return \"Error: this function takes integers only.\"\n",
    "        # Python functions return `None` by default (`type(None)` is `NoneType`); so, \n",
    "        # use the `return` keyword to specify that a function should end and return a value\n",
    "\n",
    "    # The functions `type` above and `abs` below are part of the Python stdlib (\"standard libary\")\n",
    "    # and are thus automatically available within any Python programming envirionment\n",
    "    # Similarly, the `import math` statement (in the \"import cell\" above) is a Python standard module\n",
    "    # and can be imported with \"base\" Python without any (`pip install <package>`) extra installation\n",
    "    # https://docs.python.org/3/library/ https://docs.python.org/3/py-modindex.html\n",
    "    \n",
    "    # Python uses `**` rather than `^` for exponetiation; so, e.g., `2**3` is `2*2*2`\n",
    "    maximum_representable_integer = 2**(storage_bits) # FIX THIS: it's not correct\n",
    "    # Here's another `if` statement usage example\n",
    "    if abs(integer_input) > maximum_representable_integer:\n",
    "        return \"Error: `integer_input` exceeds the representational capability of `storage_bits`.\"\n",
    "    # Interestingly, Python(3) itself does not impose integer representational limitations\n",
    "    # https://stackoverflow.com/questions/7604966/maximum-and-minimum-values-for-ints \n",
    "    # but your program here will have representational limits according to `storage_bits`\n",
    "    # While having integers of \"unlimited\" size seems great, it also means efficient \n",
    "    # binary operations expecting fixed-sized integer representations will no longer apply\n",
    "\n",
    "    # Python's `list` type will keep track of the bit representation of `integer_input`\n",
    "    bits = storage_bits*[0]\n",
    "    # Python overloads operators, e.g., `*`, in sensible ways for different data types\n",
    "    # E.g., `k*<a list>` replicates the list `k` times and makes a new list from that\n",
    "    \n",
    "    if integer_input < 0:\n",
    "        # set the sign bit\n",
    "        bits[0] = 1 # the \"zero bit\" is our sign bit: don't change this\n",
    "        integer_input = abs(integer_input)\n",
    "\n",
    "    # Below is Python's for loop syntax which for default `storage_bits=16` iterates integer variable `i` \n",
    "    # from 1 to 15 (and not 16) because Python is 0-indexed so `range(16)` starts from 0 and goes to 15 \n",
    "    # (iterating 16 times) while `range(1, storage_bits)` starts at 1 and goes to 15.\n",
    "    # Any `iterable` may be \"iterated\" through `i` in Python, e.g.,\n",
    "    # - the built-in (i.e., part of stdlib) function `range` is the `generator` form of an `iterator` \n",
    "    # -`for b_i in storage_bits:` would \"iterate\" `b_i` over the elements of the `storage_bits` `list`\n",
    "    # Notably, `generator`s do not store their elements in memory, but create their elements on the fly\n",
    "    # functionally; whereas, `storage_bits` actually exists in memory and can be \"traversed\" in memory\n",
    "    # https://stackoverflow.com/questions/2776829/difference-between-pythons-generators-and-iterators\n",
    "    for i in range(1, storage_bits):\n",
    "        \n",
    "        # TODO: \n",
    "        # Check if each power of two is present in the bit representation of `integer_input`\n",
    "        # and turn on that bit in the representation `bits` if so; but, remember\n",
    "        # - the \"leftmost bit\" `bits[0]` is the \"sign bit\",  \n",
    "        # - the \"rightmost bit\" `bits[-1]` corresponds to `2**0`,\n",
    "        # - and in general `bits[-j]` corresponds to `2**(j-1)` (except for `bits[0]`)\n",
    "        # where for an indexable object such as a `list` (and, interestingly, a `str` type)\n",
    "        # `bits[-1]` corresponds to the last element in the the object\n",
    "        # `bits[-2]` corresponds to the second to the last element in the object, etc.\n",
    "        \n",
    "        # This correspondance between `bits[-j]` and `2**(j-1)` is the way encoding is always\n",
    "        # done at the byte(=8bit) level; however, by continuing this representation across bytes(=8bits)\n",
    "        # the \"endianness\" of the encoding is \"big-endian\" as opposed to \"little-endian\" because\n",
    "        # - the most significant bits (highest powers of 2) are at the beginning of the array while\n",
    "        # - the least significant bits (lowest powers of 2) are at the end of the array; although,\n",
    "        # when the computer stores our \"bytes\" it might actually rearrange them into \"little-endian\".\n",
    "        # https://en.wikipedia.org/wiki/Endianness#Etymology\n",
    "        # https://www.section.io/engineering-education/what-is-little-endian-and-big-endian/\n",
    "        \n",
    "        pass # fill in your \"bit encode an integer\" algorithm then remove this \"pass\" placeholder\n",
    "\n",
    "    # The `[str(i) for bit in bits]` construction below is the idiomatically \"pythonic\" \"list comprehension\"\n",
    "    # The list comprehension here iterates over the elements of list `bits`,\n",
    "    #     assigning each in turn to `bit`, converting `bit` into the `str` type\n",
    "    #     and then returning the transformed versions `bit` as a new list \n",
    "    #     in the same order as the original `bits` list.\n",
    "    return \"\".join([str(bit) for bit in bits]) # Remember: an `str` is an \"iterable\" a `list`\n",
    "    # The Python object `\"\"` (i.e., an empty string) is a `str` type object.\n",
    "    # Objects in python have their own functions (called methods):\n",
    "    #   the `join` function of the `\"\"` object is called from the `\"\"` object \n",
    "    #   by accessing it with the `.` operator and it accepts a list of strings\n",
    "    #   the elements of which it then concatenates together using itself (`\"\"`).\n",
    "     \n",
    "    # Python objects which may be assigned variable names by which they are referenced; and, \n",
    "    # interestingly, a Python function is itself an object, e.g., `binary_string(<int>)` is \n",
    "    # shorthand for `binary_string.__call__(<int>)`.  To see the methods of objects, try, e.g.,\n",
    "    # `dir(binary_string)`, `dir(\"string\")`, `dir(16)`, or `storage_bits=16; dir(storage_bits)`\n",
    "    \n",
    "    # Since Python functions are (first-class) objects just like everything else, they can be\n",
    "    # passed as arguments into or returned as outputs from functions (as in the next problem)."
   ]
  },
  {
   "cell_type": "markdown",
   "id": "c31d58e8",
   "metadata": {},
   "source": [
    "## Hints\n",
    "\n",
    "The `binary_string` function above has the following problems:\n",
    "  - This code is wrong and needs to be fixed: `maximum_representable_integer = 2**(storage_bits)`\n",
    "  - You must add the code into the currently empty `for i in range(1, storage_bits):` loop in order to encode an an integer as a sequence of bits by \"turning on\" the appropriate bits in the bit representation of the integer.\n",
    "\n",
    "The code below has some things to try if you need to figure out what the code is doing. Trying things out to figure out what they do is of course exactly how gets more comfortable with coding."
   ]
  },
  {
   "cell_type": "code",
   "execution_count": null,
   "id": "7e713a30",
   "metadata": {},
   "outputs": [],
   "source": [
    "binary_string?"
   ]
  },
  {
   "cell_type": "code",
   "execution_count": null,
   "id": "9d45a9b2",
   "metadata": {},
   "outputs": [],
   "source": [
    "help(binary_string)"
   ]
  },
  {
   "cell_type": "code",
   "execution_count": null,
   "id": "60341c7f",
   "metadata": {},
   "outputs": [],
   "source": [
    "binary_string(.1)"
   ]
  },
  {
   "cell_type": "code",
   "execution_count": null,
   "id": "2616cc73",
   "metadata": {},
   "outputs": [],
   "source": [
    "binary_string(2**20)"
   ]
  },
  {
   "cell_type": "code",
   "execution_count": null,
   "id": "7df57c58",
   "metadata": {},
   "outputs": [],
   "source": [
    "[0,0]"
   ]
  },
  {
   "cell_type": "code",
   "execution_count": null,
   "id": "27e65f32",
   "metadata": {},
   "outputs": [],
   "source": [
    "16*[0]"
   ]
  },
  {
   "cell_type": "code",
   "execution_count": null,
   "id": "a239748e",
   "metadata": {},
   "outputs": [],
   "source": [
    "a_list = ['a','b','c']\n",
    "a_list"
   ]
  },
  {
   "cell_type": "code",
   "execution_count": null,
   "id": "787aaa8d",
   "metadata": {},
   "outputs": [],
   "source": [
    "a_list[0] = 'A'\n",
    "a_list"
   ]
  },
  {
   "cell_type": "code",
   "execution_count": null,
   "id": "5190847a",
   "metadata": {},
   "outputs": [],
   "source": [
    "a_list[1]"
   ]
  },
  {
   "cell_type": "code",
   "execution_count": null,
   "id": "152ab4ad",
   "metadata": {},
   "outputs": [],
   "source": [
    "a_list[2]"
   ]
  },
  {
   "cell_type": "code",
   "execution_count": null,
   "id": "362c8d98",
   "metadata": {},
   "outputs": [],
   "source": [
    "# negative indexes, e.g., `-1` in Python index \"backwards\"\n",
    "# starting from the end of the list and working towards the front\n",
    "a_list[-1]"
   ]
  },
  {
   "cell_type": "code",
   "execution_count": null,
   "id": "d913ad30",
   "metadata": {},
   "outputs": [],
   "source": [
    "a_list[-2]"
   ]
  },
  {
   "cell_type": "code",
   "execution_count": null,
   "id": "7f89e4d4",
   "metadata": {},
   "outputs": [],
   "source": [
    "\"a string is an indexable object in python\"[10]"
   ]
  },
  {
   "cell_type": "code",
   "execution_count": null,
   "id": "854486ab",
   "metadata": {},
   "outputs": [],
   "source": [
    "try:\n",
    "    a_list[3]\n",
    "except IndexError:\n",
    "    print(\"IndexError: list index out of range\")"
   ]
  },
  {
   "cell_type": "code",
   "execution_count": null,
   "id": "057491b9",
   "metadata": {},
   "outputs": [],
   "source": [
    "a_string = \"|\".join(['a','b','c'])\n",
    "a_string"
   ]
  },
  {
   "cell_type": "code",
   "execution_count": 7,
   "id": "b00a0a02",
   "metadata": {},
   "outputs": [],
   "source": [
    "# Cell for scratch work\n",
    "\n",
    "# You are welcome to add as many new cells into this notebook as you would like.\n",
    "# Just don't have scratch work cells with runtime errors because \n",
    "# notebook cells are run sequentially for automated code testing.\n",
    "\n",
    "# Any cells included for scratch work that are no longer needed may be deleted so long as \n",
    "# - all the required functions are still defined and available when called\n",
    "# - no cells requiring variable assignments are deleted \n",
    "#    - as this causes their `cell ids` to be lost, but these `cell-ids` are required for automated code testing."
   ]
  },
  {
   "cell_type": "code",
   "execution_count": null,
   "id": "0088ebf7",
   "metadata": {},
   "outputs": [],
   "source": [
    "# Cell for scratch work\n"
   ]
  },
  {
   "cell_type": "markdown",
   "id": "10a91f64",
   "metadata": {},
   "source": [
    "### Problem 1 Question 0 (0.5 points)\n",
    "\n",
    "What are the ordered concatenated values of the sign bit (the \"first\" bit \"on the left\") of the 16-bit integer representation of the numbers \n",
    "\n",
    "- `-7`, `7`, `-2**12`, and `-2**11`\n",
    "\n",
    "created by the `binary_string` function?"
   ]
  },
  {
   "cell_type": "code",
   "execution_count": null,
   "id": "6b4dccb4",
   "metadata": {
    "deletable": false
   },
   "outputs": [],
   "source": [
    "# 1 point [format: `str` type with `len(p1q0)` equal to 4]\n",
    "p1q0 = # binary_string(-7, 16)[0]+binary_string(7, 16)[0]+binary_string(-2**12, 16)[0]+binary_string(-2**11, 16)[0]\n",
    "# Uncommenting the code above will concatenate the single character `str` values with the overloaded operator '+' \n",
    "# which will return the correct answer with just the starter code alone\n",
    "\n",
    "# This cell will produce a runtime error until you assign a value to this variable"
   ]
  },
  {
   "cell_type": "markdown",
   "id": "2b123c4e",
   "metadata": {},
   "source": [
    "### Problem 1 Question 1 (0.5 points)\n",
    "\n",
    "What is the bitstring corresponding to `2**5` through `2**2` of a 16-bit integer representation of the number `21845` created by the `binary_string` function?"
   ]
  },
  {
   "cell_type": "code",
   "execution_count": null,
   "id": "7e601a30",
   "metadata": {
    "deletable": false
   },
   "outputs": [],
   "source": [
    "# 1 point [format: `str` type with `len(p1q0)` equal to 4]\n",
    "p1q1 = #binary_string(21845, 16)[10:14] # strings can be indexed and like `for` loops the upper bound is excluded \n",
    "# Uncommenting this function call with the correct \"bit encode an integer\" algorithm will return the correct answer\n",
    "\n",
    "# NOTE: remember that Python is 0-indexed, so `[10:14]` actually starts from the 11th position in the string; and,\n",
    "# perhaps unexpectly, the last index (`14` here is NOT included in the extracted subset); so,\n",
    "# (0-indexed) elements 10, 11, 12, and 13 are included, but element 14 is NOT!\n",
    "# So in Python `[10:14]` is like the open set `[10,14)` as well as being 0-indexed.\n",
    "\n",
    "# This cell will produce a runtime error until you assign a value to this variable"
   ]
  },
  {
   "cell_type": "markdown",
   "id": "c367985e",
   "metadata": {},
   "source": [
    "### Problem 1 Question 2 (2 points)\n",
    "\n",
    "What is the bitstring corresponding to `2**12` through `2**7` of a 16-bit integer representation of the number `-10922` created by the `binary_string` function?\n",
    "\n",
    "- Remember: Python is 0-indexed and does not include the final index when using `:` indexing; so, `'012345'[0:3]` is the substring `'012'`. "
   ]
  },
  {
   "cell_type": "code",
   "execution_count": null,
   "id": "084524a9",
   "metadata": {
    "deletable": false
   },
   "outputs": [],
   "source": [
    "# 2 points [format: `str` type with `len(p1q0)` equal to 6]\n",
    "p1q2 = #binary_string(-10922, 16)[<?>] # the indexing is currently unspecified and must be correctly specified\n",
    "# Uncommenting the call with the correct indexing and \"bit encode an integer\" algorithm will provide the correct answer\n",
    "\n",
    "# This cell will produce a runtime error until you assign a value to this variable\n",
    "# This cell will produce a runtime error if `[<?>]` is left as is"
   ]
  },
  {
   "cell_type": "markdown",
   "id": "a1273b83",
   "metadata": {},
   "source": [
    "### Problem 1 Question 3 (1 points)\n",
    "\n",
    "What is the value of the bit corresponding to `2**8` of a 16-bit integer representation of the number `32768` created by the `binary_string` function?"
   ]
  },
  {
   "cell_type": "code",
   "execution_count": null,
   "id": "3c814f5b",
   "metadata": {
    "deletable": false
   },
   "outputs": [],
   "source": [
    "# 2 points [format: `str` type]\n",
    "p1q3 = #binary_string(32768, 16)[<?>]\n",
    "# Uncommenting the call with the correct index and \"bit encode an integer\" algorithm will assign the correct answer\n",
    "\n",
    "# This cell will produce a runtime error until you assign a value to this variable\n",
    "# This cell will produce a runtime error if `[<?>]` is left as is"
   ]
  },
  {
   "cell_type": "markdown",
   "id": "ea1e9895",
   "metadata": {},
   "source": [
    "# Problem 2 (6 points)\n",
    "\n",
    "Functions are first-class objects in Python, so they can be inputs and outputs of functions. This problem demonstrates returning a function from a function, as well as making the value returned by a function the output of a call to another function.\n",
    "\n",
    "Convert the [*recursive*](https://www.google.com/search?sxsrf=APq-WBt93bhrPNQH9wqbxeHm-DXychMfHA:1644774898893&q=recursion&spell=1&sa=X&ved=2ahUKEwjTttX8n_31AhUCm-AKHTKBD7UQBSgAegQIAhAy) function `pseudorandom_integer_sample` created by the function `create_integer_sampler` \n",
    "into an *iterative* (i.e., a sequential \"for loop\" based) implementation of the *first order sequential congruential method* producing variable $u_k$ according to the recursive function\n",
    "\n",
    "$$u_k = au_{k-1} \\text{ mod } m \\quad 0 < |u_k| < m$$\n",
    "  \n",
    "The `create_integer_sampler` function is parameterized by `int`s multiplier `a` and modulus `m`\n",
    "and the `pseudorandom_integer_sample` is parameterized by `n` which is an `int` representing desired sample size \n",
    "and `pseudorandom_sample` which is a `list` that is initially set to `[s]` where `s` is an `int` which provides the \"seed\" which initializes the pseudorandom number generation process\n",
    "    \n",
    "\n",
    "\n",
    "\n",
    "*This problem is inspired by **Generation of Pseudorandom Numbers from a Uniform Distribution** on page 306 in Chapter 7.1 and **Recursion** on page 119-121 in Chapter 3.3 **Efficiency** (and in particular the third and second to last paragraphs on page 120) of James E. Gentle's **Computational Statistics** textbook.*"
   ]
  },
  {
   "cell_type": "markdown",
   "id": "7d6ff778",
   "metadata": {},
   "source": [
    "## Motivation\n",
    "\n",
    "Recursive functions can be very powerful when used appropriately\n",
    "    \n",
    "> e.g. see the subsections \"Recursion\", \"Improving Efficiency\", and \"Divide and Conquer\", and Algorithms 3.1 \"Merge\" and 3.2 \"MergeSort\" on pages 119-124 James E. Gentle's Computational Statistics textbook, which build on \n",
    "    > the ubiquitous \"Big O\" and \"little o\" notation prerequesites discussed Section 3.3 \"Efficiency\"\n",
    "\n",
    "but as with all recursive implementations (not optimized via a compiler via [tail recursion](https://stackoverflow.com/questions/33923/what-is-tail-recursion)), the recursive implementation of $u_k = au_{k-1} \\text{ mod } m$, e.g.,\n",
    "\n",
    "```python\n",
    "def f(a, m, n, s):\n",
    "    if n is 0:\n",
    "        return []\n",
    "    else:\n",
    "        x = a*s % m\n",
    "        return [x] + f(a, m, n-1, x)\n",
    "```\n",
    "\n",
    "entails the overhead of retaining the state of function calls on the \"stack\" until they complete\n",
    "\n",
    "> i.e., `f(a, m, n, x)` may not be \"popped\" from the \"stack\" until `[x] + f(a, m, n-1, x)` completes, which means `f(a, m, n, x)` can't be removed from memory until `f(a, m, n-1, x)` is removed from memory\n",
    "\n",
    "thus despite the natural recusive specification of this problem the recursive implementation unnecessarily requries more computational resources without providing any recursive divide and conquer benefit compared with a direct iterative \"for loop\" implementation.  "
   ]
  },
  {
   "cell_type": "code",
   "execution_count": 2,
   "id": "bdc59f4e",
   "metadata": {
    "deletable": false
   },
   "outputs": [],
   "source": [
    "# Python code doesn't run if it's not consistently indented\n",
    "def create_integer_sampler(a, m):\n",
    "    \n",
    "    \"\"\"\n",
    "    a : (int) multiplier\n",
    "    m : (int) modulus\n",
    "    \n",
    "    This function creates and returns a recursive function for pseudorandom number generation\n",
    "    using the first order sequential congruential method u_k = au_{k-1} mod m, 0<|u_k|<m \n",
    "    \"\"\"\n",
    "    # Docstrings (above) are text displayed with the `help` function\n",
    "    # or with a question mark following the name of the function, e.g.,\n",
    "    # `help(create_recursive_function)` or `create_recursive_function?`\n",
    "    # Docstrings should contain helpful information for using a function.\n",
    "    # Write your docstrings so that they facilitate use of your function.\n",
    "                    \n",
    "    def pseudorandom_integer_sample(n, pseudorandom_sample):\n",
    "            \n",
    "        '''This is the docstring and it can be made with \\' or \\\" where the \"tripple\"\n",
    "           quotes versions used here and just above conveniently allows line breaks.\n",
    "        \n",
    "           You'll edit this function and use this docstring to convey function behavior.\n",
    "           Clearly specify intended usage of inputs, especially regarding the appropriate \n",
    "           specification of the `seed`, and indicate the implications of `period` on output.\n",
    "           \n",
    "           You can check your docstring with, e.g., `create_integer_sampler(7,17)?` \n",
    "           or `help(create_integer_sampler(7,17))`\n",
    "        '''\n",
    "        \n",
    "        # code debugging printouts, if needed\n",
    "        # print(a, m, n, pseudorandom_sample)\n",
    "        \n",
    "        if n<=1:\n",
    "            # What would happen without this check?\n",
    "            return pseudorandom_sample\n",
    "            \n",
    "        else:\n",
    "            next_pseudorandom_sample = 0 # FIX THIS \n",
    "            if next_pseudorandom_sample in pseudorandom_sample:\n",
    "                print(\"Warning: sampling period reached -- psuedorandom samples are being repeated\")\n",
    "                return pseudorandom_sample\n",
    "                \n",
    "            # Here `pseudorandom_sample` is expected to be a `list` type object and\n",
    "            # Python overloads the `+` operator in `list_a + list_b` as list concatenation\n",
    "            pseudorandom_sample += [next_pseudorandom_sample] # `a = a+b` shorthands `a += b`\n",
    "\n",
    "            return pseudorandom_integer_sample(n-1, pseudorandom_sample)\n",
    "                    \n",
    "    # Functions are \"first class objects\" in Python\n",
    "    return pseudorandom_integer_sample\n",
    "    # so function objects themselves (and not just their results)\n",
    "    # can be returned as the output of a functions"
   ]
  },
  {
   "cell_type": "markdown",
   "id": "1613c146",
   "metadata": {},
   "source": [
    "## Hints\n",
    "\n",
    "The code above has the following issues:\n",
    "\n",
    "- The code `next_pseudorandom_sample = 0` is wrong in function `pseudorandom_integer_sample`.\n",
    "\n",
    "\n",
    "- You will get the runtime error `RecursionError: maximum recursion depth exceeded in comparison` if you have not yet converted to an interative implementation as required for this problem. Do not [increase the maximum recursion stack depth](https://stackoverflow.com/questions/3323001/what-is-the-maximum-recursion-depth-in-python-and-how-to-increase-it) to get around this as this does not address the issue of unnecessarily wasted computational resources, and anyway this will be reset during automatic code testing.\n",
    "\n",
    "- Recall following following standard Python usages:\n",
    "\n",
    "```\n",
    "    n = 10\n",
    "    my_list = [0]*n\n",
    "    for i in range(n):\n",
    "        my_list[i] = i\n",
    "    my_list\n",
    "```\n",
    "\n",
    "- The design of the signature of the provided starter allows it to be used as\n",
    "\n",
    "  ```\n",
    "   my_psuedor_sampler = create_integer_sampler(a=811, m=7919)\n",
    "   seed = 10\n",
    "   len(my_psuedor_sampler(n=4000, pseudorandom_sample=[seed]))\n",
    "  ```\n",
    "\n",
    "   Certainly the function signature (and corresponding usage) may be changed however you wish; however, any such changes must be corresondingly adjusted for the subsequent default function calls provided below."
   ]
  },
  {
   "cell_type": "code",
   "execution_count": 212,
   "id": "94b1e89b",
   "metadata": {},
   "outputs": [],
   "source": [
    "# Cell for scratch work\n",
    "\n",
    "# You are welcome to add as many new cells into this notebook as you would like.\n",
    "# Just don't have scratch work cells with runtime errors because \n",
    "# notebook cells are run sequentially for automated code testing.\n",
    "\n",
    "# Any cells included for scratch work that are no longer needed may be deleted so long as \n",
    "# - all the required functions are still defined and available when called\n",
    "# - no cells requiring variable assignments are deleted \n",
    "#    - as this causes their `cell ids` to be lost, but these `cell-ids` are required for automated code testing."
   ]
  },
  {
   "cell_type": "code",
   "execution_count": null,
   "id": "23cf157e",
   "metadata": {},
   "outputs": [],
   "source": [
    "# Cell for scratch work\n"
   ]
  },
  {
   "cell_type": "markdown",
   "id": "1f6ce642",
   "metadata": {},
   "source": [
    "### Problem 2 Question 0 (1 point)\n",
    "\n",
    "In addition to providing a high level statement of the purpose of a function,\n",
    "docstrings must indicate how to use the function (including types and restrictions on inputs)\n",
    "and the expected behavior of the returned output (and its type).\n",
    "\n",
    "- (0.2 point) Adjust the docstring in the function `create_integer_sampler` to reflect your coding updates.\n",
    "- (0.8 points) Write a docstring for the function `pseudorandom_integer_sample` which notes the inputs and outputs of the function (and their types), and describe what the function itself does (including addressing `seed` and `n`).\n",
    "\n",
    "You can examine your docstring with, e.g., \n",
    "  - `create_integer_sampler?` and `create_integer_sampler(7,17)?` or\n",
    "  - `help(create_integer_sampler)` and `help(create_integer_sampler(7,17))`"
   ]
  },
  {
   "cell_type": "code",
   "execution_count": null,
   "id": "e263c7fa",
   "metadata": {},
   "outputs": [],
   "source": [
    "help(create_integer_sampler)"
   ]
  },
  {
   "cell_type": "code",
   "execution_count": null,
   "id": "fc6ec642",
   "metadata": {},
   "outputs": [],
   "source": [
    "help(create_integer_sampler(7,17))"
   ]
  },
  {
   "cell_type": "markdown",
   "id": "c57f319d",
   "metadata": {},
   "source": [
    "### Problem 2 Questions 1 (1 point)\n",
    "\n",
    "- (a.) (0.5 points) Does the code above always return the requested sample size? \"Yes\" or \"No\"?\n",
    "- (b.) (0.5 points) In the original code, what does the `if n<=1` condition do?\n",
    "    - (A) Makes sure the sample size is positive\n",
    "    - (B) Avoids infinite recursion \n",
    "    - (C) It was not needed in the original code so was removed\n",
    "    - (D) I don't remember and can't check"
   ]
  },
  {
   "cell_type": "code",
   "execution_count": null,
   "id": "7d1a4a10",
   "metadata": {
    "deletable": false
   },
   "outputs": [],
   "source": [
    "# 0.5 points [format: `str` either \"Yes\" or \"No\"]\n",
    "p2q1a = #<\"Yes\"|\"No\"> \n",
    "# Uncomment the above and keep only either \"Yes\" or \"No\"\n",
    "\n",
    "# This cell will produce a runtime error until you assign a value to this variable"
   ]
  },
  {
   "cell_type": "code",
   "execution_count": null,
   "id": "aa7e3bc3",
   "metadata": {
    "deletable": false
   },
   "outputs": [],
   "source": [
    "# 0.5 points [format: `str` either \"A\" or \"B\" or \"C\" or \"D\" based on the choices above]\n",
    "p2q1b = #<\"A\"|\"B\"|\"C\"|\"D\"> \n",
    "# Uncomment the above and keep only either \"A\" or \"B\" or \"C\" or \"D\"\n",
    "\n",
    "# This cell will produce a runtime error until you assign a value to this variable"
   ]
  },
  {
   "cell_type": "markdown",
   "id": "001cea60",
   "metadata": {},
   "source": [
    "### Problem 2 Questions 2-5 (2 points)\n",
    "\n",
    "What are the *periods*, i.e., the number of unique pseudorandom integers generated by the first order sequential congruential method defined by the following specifications before the numbers begin cycling?\n",
    "\n",
    "- (0.5 points) `create_integer_sampler(a=5, m=7921)`\n",
    "- (0.5 points) `create_integer_sampler(a=811, m=7921)`\n",
    "- (0.5 points) `create_integer_sampler(a=814, m=7921)`\n",
    "- (0.5 points) `create_integer_sampler(a=826, m=7921)`"
   ]
  },
  {
   "cell_type": "code",
   "execution_count": 212,
   "id": "0a093732",
   "metadata": {},
   "outputs": [],
   "source": [
    "# Cell for scratch work\n",
    "\n",
    "# You are welcome to add as many new cells into this notebook as you would like.\n",
    "# Just don't have scratch work cells with runtime errors because \n",
    "# notebook cells are run sequentially for automated code testing.\n",
    "\n",
    "# Any cells included for scratch work that are no longer needed may be deleted so long as \n",
    "# - all the required functions are still defined and available when called\n",
    "# - no cells requiring variable assignments are deleted \n",
    "#    - as this causes their `cell ids` to be lost, but these `cell-ids` are required for automated code testing."
   ]
  },
  {
   "cell_type": "code",
   "execution_count": null,
   "id": "49929886",
   "metadata": {},
   "outputs": [],
   "source": [
    "# Cell for scratch work\n"
   ]
  },
  {
   "cell_type": "code",
   "execution_count": null,
   "id": "58687895",
   "metadata": {
    "deletable": false
   },
   "outputs": [],
   "source": [
    "# 0.5 points [format: `int`]\n",
    "my_psuedor_sampler = create_integer_sampler(a=5, m=7921)\n",
    "seed = # assign values to seed here and n below\n",
    "p2q2 = #len(my_psuedor_sampler(n=<?>, pseudorandom_sample=[seed])) \n",
    "# Uncommenting the line above will assign the correct value to `p2q2` if `seed` and `n` \n",
    "# have been given reasonable values and your iterative implementation is correct\n",
    "\n",
    "# This cell will produce a runtime error until all variables are assigned values"
   ]
  },
  {
   "cell_type": "code",
   "execution_count": null,
   "id": "90022650",
   "metadata": {
    "deletable": false
   },
   "outputs": [],
   "source": [
    "# 0.5 points [format: `int`]\n",
    "p2q3 = #len(create_integer_sampler(a=811, m=7921)(n=<?>, pseudorandom_sample=[<?>]))\n",
    "# Uncommenting the line above will assign the correct value to `p2q3` if `seed` and `n` \n",
    "# have been given reasonable values and your iterative implementation is correct\n",
    "\n",
    "# This cell will produce a runtime error until all variables are assigned values"
   ]
  },
  {
   "cell_type": "code",
   "execution_count": null,
   "id": "a38f105e",
   "metadata": {
    "deletable": false
   },
   "outputs": [],
   "source": [
    "# 0.5 points [format: `int`]\n",
    "p2q4 = #len(create_integer_sampler(a=814, m=7921)(n=<?>, pseudorandom_sample=[<?>]))\n",
    "# Uncommenting the line above will assign the correct value to `p2q4` if `seed` and `n` \n",
    "# have been given reasonable values and your iterative implementation is correct\n",
    "\n",
    "# This cell will produce a runtime error until all variables are assigned values"
   ]
  },
  {
   "cell_type": "code",
   "execution_count": null,
   "id": "fba1969a",
   "metadata": {
    "deletable": false
   },
   "outputs": [],
   "source": [
    "# 0.5 points [format: `int`]\n",
    "p2q5 = #len(create_integer_sampler(a=826, m=7921)(n=<?>, pseudorandom_sample=[<?>]))\n",
    "# Uncommenting the line above will assign the correct value to `p2q5` if `seed` and `n` \n",
    "# have been given reasonable values and your iterative implementation is correct\n",
    "\n",
    "# This cell will produce a runtime error until all variables are assigned values"
   ]
  },
  {
   "cell_type": "markdown",
   "id": "93e514d7",
   "metadata": {},
   "source": [
    "### Problem 2 Question 6 (0.5 points)\n",
    "\n",
    "The plots below shows the first 100 or so pseudorandom numbers generated from the specifications considered above.\n",
    "Which pseudorandom numbers appear to be the best specification for producing uniform random numbers between $0$ to $1$ using $\\tilde u_k=u_k/m$ for $k=1,\\cdots, n$ from $u_k = au_{k-1} \\text{ mod } m$?\n",
    "\n",
    "- (A) `a=5 m=7921` because the next value can be predicted fairly well from the previous\n",
    "- (B) `a=811 m=7921` because the next value cannot be especially predicted from the previous\n",
    "- (C) `a=814 m=7921` because the generated numbers are uniformly distributed\n",
    "- (D) `a=826 m=7921` because there's not too many generated numbers"
   ]
  },
  {
   "cell_type": "code",
   "execution_count": null,
   "id": "82762fbc",
   "metadata": {
    "deletable": false
   },
   "outputs": [],
   "source": [
    "# 0.5 points [format: `str` either \"A\" or \"B\" or \"C\" or \"D\" based on the choices above]\n",
    "p2q6 = #<\"A\"|\"B\"|\"C\"|\"D\"> \n",
    "# Uncomment the above and keep only either \"A\" or \"B\" or \"C\" or \"D\"\n",
    "\n",
    "# This cell will produce a runtime error until you assign a value to this variable"
   ]
  },
  {
   "cell_type": "code",
   "execution_count": null,
   "id": "cf158a6f",
   "metadata": {},
   "outputs": [],
   "source": [
    "try: \n",
    "    def label_plot(ax):\n",
    "        ax.set_xlabel(\"x[i]\"); ax.set_ylabel(\"x[i+1]\")\n",
    "        \n",
    "    fig,ax = plt.subplots(1,4,figsize=(20,5))\n",
    "    x = np.array(create_integer_sampler(a=5, m=7921)(n=8000, pseudorandom_sample=[1]))\n",
    "    ax[0].plot(x[:100],x[1:101],'.'); ax[0].set_title(\"a=5 m=7921 period=\"+str(len(x))); label_plot(ax[0])\n",
    "    x = np.array(create_integer_sampler(a=811, m=7921)(n=8000, pseudorandom_sample=[1100]))\n",
    "    ax[1].plot(x[:100],x[1:101],'.'); ax[1].set_title(\"a=811 m=7921 period=\"+str(len(x))); label_plot(ax[1])\n",
    "    x = np.array(create_integer_sampler(a=814, m=7921)(n=8000, pseudorandom_sample=[1100]))\n",
    "    ax[2].plot(x[:100],x[1:101],'.'); ax[2].set_title(\"a=814 m=7921 period=\"+str(len(x))); label_plot(ax[2])\n",
    "    x = np.array(create_integer_sampler(a=826, m=7921)(n=8000, pseudorandom_sample=[1100]))\n",
    "    ax[3].plot(x[:-1],x[1:],'.'); ax[3].set_title(\"a=826 m=7921 period=\"+str(len(x))); label_plot(ax[3])\n",
    "except:\n",
    "    pass"
   ]
  },
  {
   "cell_type": "markdown",
   "id": "e2a3defe",
   "metadata": {},
   "source": [
    "### Problem 2 Question 7 (0.5 points)\n",
    "\n",
    "The following are based on prime numbers in the hopes that they will have larger periods and a more random appearance. With respect to producing the largest set of pseudorandom numbers, which of the following produces the largest set of pseudorandom numbers?\n",
    "\n",
    "- (A) `a=7907, m=7919` \n",
    "- (B) `a=3967 m=7921` \n",
    "- (C) `a=814 m=7883` \n",
    "- (D) At least two of these produces the same number of pseudorandom numbers"
   ]
  },
  {
   "cell_type": "code",
   "execution_count": null,
   "id": "dc3bacbd",
   "metadata": {
    "deletable": false
   },
   "outputs": [],
   "source": [
    "# 0.5 points [format: `str` either \"A\" or \"B\" or \"C\" or \"D\" based on the choices above]\n",
    "p2q7 = #<\"A\"|\"B\"|\"C\"|\"D\"> \n",
    "# Uncomment the above and keep only either \"A\" or \"B\" or \"C\" or \"D\"\n",
    "\n",
    "# This cell will produce a runtime error until you assign a value to this variable"
   ]
  },
  {
   "cell_type": "code",
   "execution_count": null,
   "id": "4fea6a20",
   "metadata": {},
   "outputs": [],
   "source": [
    "# Cell for scratch work\n",
    "\n",
    "# You are welcome to add as many new cells into this notebook as you would like.\n",
    "# Just don't have scratch work cells with runtime errors because \n",
    "# notebook cells are run sequentially for automated code testing.\n",
    "\n",
    "# Any cells included for scratch work that are no longer needed may be deleted so long as \n",
    "# - all the required functions are still defined and available when called\n",
    "# - no cells requiring variable assignments are deleted \n",
    "#    - as this causes their `cell ids` to be lost, but these `cell-ids` are required for automated code testing."
   ]
  },
  {
   "cell_type": "code",
   "execution_count": null,
   "id": "68afc592",
   "metadata": {},
   "outputs": [],
   "source": [
    "# Cell for scratch work\n"
   ]
  },
  {
   "cell_type": "markdown",
   "id": "7a95ddf3",
   "metadata": {},
   "source": [
    "### Problem 2 Question 8 (0.5 points)\n",
    "\n",
    "Does it appear that the *seed* affects the *period* of the first order sequential congruential method? \"Yes\" or \"No\"?"
   ]
  },
  {
   "cell_type": "code",
   "execution_count": null,
   "id": "aac1ee14",
   "metadata": {
    "deletable": false
   },
   "outputs": [],
   "source": [
    "# 0.5 points [format: `str` either \"Yes\" or \"No\"]\n",
    "p2q8 = #<\"Yes\"|\"No\"> \n",
    "# Uncomment the above and keep only either \"Yes\" or \"No\"\n",
    "# This cell will produce a runtime error until you assign a value to this variable"
   ]
  },
  {
   "cell_type": "code",
   "execution_count": 212,
   "id": "ef413919",
   "metadata": {},
   "outputs": [],
   "source": [
    "# Cell for scratch work\n",
    "\n",
    "# You are welcome to add as many new cells into this notebook as you would like.\n",
    "# Just don't have scratch work cells with runtime errors because \n",
    "# notebook cells are run sequentially for automated code testing.\n",
    "\n",
    "# Any cells included for scratch work that are no longer needed may be deleted so long as \n",
    "# - all the required functions are still defined and available when called\n",
    "# - no cells requiring variable assignments are deleted \n",
    "#    - as this causes their `cell ids` to be lost, but these `cell-ids` are required for automated code testing."
   ]
  },
  {
   "cell_type": "code",
   "execution_count": null,
   "id": "052e7dac",
   "metadata": {},
   "outputs": [],
   "source": [
    "# Cell for scratch work\n"
   ]
  },
  {
   "cell_type": "markdown",
   "id": "c784d2ab",
   "metadata": {},
   "source": [
    "### Problem 2 Question 9 (0.5 point)\n",
    "\n",
    "Is the first order sequential congruential method designed to produce \n",
    "$\\tilde u_k=u_k/m =0$ or $\\tilde u_k=u_k/m =1$ for $u_k = au_{k-1} \\text{ mod } m$? \"Yes\" or \"No\"?"
   ]
  },
  {
   "cell_type": "code",
   "execution_count": null,
   "id": "f0ef4a86",
   "metadata": {
    "deletable": false
   },
   "outputs": [],
   "source": [
    "# 0.5 points [format: `str` either \"Yes\" or \"No\"]\n",
    "p2q9 = #<\"Yes\"|\"No\">\n",
    "# Uncomment the above and keep only either \"Yes\" or \"No\"\n",
    "# This cell will produce a runtime error until you assign a value to this variable"
   ]
  }
 ],
 "metadata": {
  "celltoolbar": "Edit Metadata",
  "kernelspec": {
   "display_name": "Python 3 (ipykernel)",
   "language": "python",
   "name": "python3"
  },
  "language_info": {
   "codemirror_mode": {
    "name": "ipython",
    "version": 3
   },
   "file_extension": ".py",
   "mimetype": "text/x-python",
   "name": "python",
   "nbconvert_exporter": "python",
   "pygments_lexer": "ipython3",
   "version": "3.9.5"
  }
 },
 "nbformat": 4,
 "nbformat_minor": 5
}
